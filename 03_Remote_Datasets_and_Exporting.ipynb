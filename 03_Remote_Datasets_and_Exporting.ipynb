{
 "cells": [
  {
   "cell_type": "markdown",
   "metadata": {},
   "source": [
    "# Lesson 3: Saving and Scripting\n",
    "Author: Rebekah Esmaili (rebekah.esmaili@gmail.com)\n",
    " \n",
    "---\n",
    "\n",
    "## Lesson Objectives\n",
    "* You will learn to:\n",
    "    * Save data into text and binary files, and plots as images\n",
    "    * Run python scripts"
   ]
  },
  {
   "cell_type": "code",
   "execution_count": null,
   "metadata": {},
   "outputs": [],
   "source": [
    "import pandas as pd\n",
    "import numpy as np\n",
    "import matplotlib.pyplot as plt\n",
    "import xarray as xr\n",
    "import cartopy.crs as ccrs"
   ]
  },
  {
   "cell_type": "markdown",
   "metadata": {},
   "source": [
    "## Data Sources\n",
    "\n",
    "### Data Archives\n",
    "\n",
    "Most Earth-science agencies openly and freely disseminate satellite, model, and in situ observations. Typically, data are stored in online data repositories and data holdings can be queried and ordered. Some examples are shown below.\n",
    "\n",
    "* [NASA](https://www.earthdata.nasa.gov/learn/find-data)\n",
    "* [NOAA](https://www.avl.class.noaa.gov/saa/products/welcome)\n",
    "* [ECMWF](https://www.ecmwf.int/en/forecasts/datasets)\n",
    "* [ESA](https://earth.esa.int/eogateway/catalog)\n",
    "\n",
    "### OPeNDAP/THREDDS catalogs\n",
    "\n",
    "Increasingly agencies are offering data catalogs that allow users to directly read from the archive without ordered. Open-source Project for a [Network Data Access Protocol (OPeNDAP)](https://www.opendap.org/) is an example of a software tool that simplifies access. Instead of downloading and reading data into Python, we can access it directly using a URL. Xarray supports OPeNDAP.\n",
    "\n",
    "Here are a couple of useful data OPeNDAP catalogs:\n",
    "\n",
    "* [NOAA/Physical Sciences Lab](https://psl.noaa.gov/data/) gridded climate datasets extending hundreds of years to real-time wind profiler data at a single location. The data or products derived from this data, organized by type, are available to scientists and the general public at the links below.\n",
    "* [NASA EOSDIS OpeNDAP Servers](https://www.earthdata.nasa.gov/engage/open-data-services-and-software/api/opendap/opendap-servers) servers across the Earth Observing System Data and Information System (EOSDIS). Contains many NASA satellite and reanalysis datasets.\n",
    "\n",
    "The example below shows Level 3 Monthly Average Chlorophyll Concentration from the Ocean Biology Processing Group (NASA/GSFC/OBPG). As you can see, we are passing a url and not a file location into xarray. One caveat if the engine **must be netcdf4** because the h5netcdf engine presently doesn't support opendap."
   ]
  },
  {
   "cell_type": "code",
   "execution_count": null,
   "metadata": {},
   "outputs": [],
   "source": [
    "url = 'http://oceandata.sci.gsfc.nasa.gov/opendap/Merged_ATV/L3SMI/2022/001/X20220012022031.L3m_MO_CHL_chlor_a_4km.nc'\n",
    "sst_opendap = xr.open_dataset(url, engine='netcdf4')\n",
    "sst_opendap"
   ]
  },
  {
   "cell_type": "code",
   "execution_count": null,
   "metadata": {},
   "outputs": [],
   "source": [
    "chlor_a = sst_opendap.chlor_a[::15, ::15]\n",
    "chlor_a"
   ]
  },
  {
   "cell_type": "code",
   "execution_count": null,
   "metadata": {},
   "outputs": [],
   "source": [
    "map_proj = ccrs.PlateCarree()\n",
    "\n",
    "fig = plt.figure(figsize=[10,5])\n",
    "ax = plt.subplot(projection=map_proj)\n",
    "chlor_a.plot(vmin=0, vmax=.8, transform=map_proj, cmap='rainbow')\n",
    "ax.coastlines(\"10m\", color=\"k\")\n",
    "\n",
    "plt.show()\n"
   ]
  },
  {
   "cell_type": "markdown",
   "metadata": {},
   "source": [
    "\n",
    "### Accessing data from the cloud\n",
    "\n",
    "Many major cloud computing companies, such as Google, Microsoft, and Amazon disseminate Earth science datasets. For instance, AWS supports an [open data program](https://aws.amazon.com/opendata/) that makes many climate datasets publicly available.\n",
    "\n",
    "The package s3fs is file interface for Amazon S3 (Simple Storage Service) buckets, so you can browse and search for data. NOAA's Open Data Dissemination (NODD) program is increasing access to satellite data, including GOES and JPSS. In this example, we'll look at GOES-16 data."
   ]
  },
  {
   "cell_type": "code",
   "execution_count": null,
   "metadata": {},
   "outputs": [],
   "source": [
    "import s3fs"
   ]
  },
  {
   "cell_type": "code",
   "execution_count": null,
   "metadata": {},
   "outputs": [],
   "source": [
    "fs = s3fs.S3FileSystem(anon=True)\n",
    "url = 'noaa-goes16/ABI-L2-RSRF/2022/285/18/OR_ABI-L2-RSRF-M6_G16_s20222851800206_e20222851809514_c20222851901446.nc'\n",
    "remote_obj = fs.open(url, mode='rb')"
   ]
  },
  {
   "cell_type": "code",
   "execution_count": null,
   "metadata": {},
   "outputs": [],
   "source": [
    "# Open\n",
    "g16 = xr.open_dataset(remote_obj, engine='h5netcdf')"
   ]
  },
  {
   "cell_type": "code",
   "execution_count": null,
   "metadata": {},
   "outputs": [],
   "source": [
    "data_proj = ccrs.PlateCarree()\n",
    "map_proj = ccrs.Orthographic(central_longitude=-72.3)\n",
    "\n",
    "fig = plt.figure()\n",
    "ax = plt.subplot(projection=map_proj)\n",
    "g16.RSR.plot(transform=data_proj, vmin=0, vmax=600)\n",
    "ax.coastlines(\"10m\", color=\"k\")\n",
    "\n",
    "plt.show()\n"
   ]
  },
  {
   "cell_type": "markdown",
   "metadata": {},
   "source": [
    "## Exporting data and figures\n"
   ]
  },
  {
   "cell_type": "markdown",
   "metadata": {},
   "source": [
    "### Saving figures\n",
    "\n",
    "Normally, we end out plots with *plt.show()* to display them inline. Instead, use *plt.savefig()*. The second argument (*bbox_inches*) refers to the whitespace around the plot, it is optional.  "
   ]
  },
  {
   "cell_type": "code",
   "execution_count": null,
   "metadata": {},
   "outputs": [],
   "source": [
    "data_proj = ccrs.PlateCarree()\n",
    "map_proj = ccrs.Orthographic(central_longitude=-72.3)\n",
    "\n",
    "fig = plt.figure()\n",
    "ax = plt.subplot(projection=map_proj)\n",
    "g16.RSR.plot(transform=data_proj, vmin=0, vmax=600)\n",
    "ax.coastlines(\"10m\", color=\"k\")\n",
    "\n",
    "# The only difference is this...\n",
    "plt.savefig('SRB.png')\n",
    "plt.close()\n"
   ]
  },
  {
   "cell_type": "markdown",
   "metadata": {},
   "source": [
    "### Saving csv files\n",
    "\n",
    "The Pandas *to_csv* is convenient for quickly saving files. The option *index=False* suppress the indices of the DataFrame (which are printed to the left of the DataFrame) from being printed to file."
   ]
  },
  {
   "cell_type": "code",
   "execution_count": null,
   "metadata": {},
   "outputs": [],
   "source": [
    "name = ['GOES-16', 'IceSat-2', 'Himawari']\n",
    "agency = ['NOAA', 'NASA', 'JAXA']\n",
    "orbit = ['GEO', 'LEO', 'GEO']\n",
    "\n",
    "df = pd.DataFrame({'name': name,\n",
    "                   'agency': agency,\n",
    "                   'orbit': orbit})\n",
    "\n",
    "df.to_csv('satellites.csv', index=False)"
   ]
  },
  {
   "cell_type": "markdown",
   "metadata": {},
   "source": [
    "### Saving as a binary file\n",
    "\n",
    "NumPy binary files (.npz) are geared towards arrays, which can be multi-dimensional. These are useful for quickly storing large datasets."
   ]
  },
  {
   "cell_type": "code",
   "execution_count": null,
   "metadata": {},
   "outputs": [],
   "source": [
    "np.savez('satnames', name=name, agency=agency, orbit=orbit)"
   ]
  },
  {
   "cell_type": "code",
   "execution_count": null,
   "metadata": {},
   "outputs": [],
   "source": [
    "npzfile = np.load('satnames.npz')\n",
    "npzfile.files\n",
    "npzfile.close()"
   ]
  },
  {
   "attachments": {},
   "cell_type": "markdown",
   "metadata": {},
   "source": [
    "## Scripting with Python\n",
    "\n",
    "### Running Python scripts from the command line\n",
    "\n",
    "Now you are finished editing the code and you probably want to run it. There are two ways you can run Python scripts:\n",
    "\n",
    "1. Using the command line interpreter\n",
    "2. Using iPython\n",
    "\n",
    "iPython is an interactive command line that allows you to run code in chunks. In fact, Jupyter Notebook is built using iPython, which explains the similarity in behavior.\n",
    " \n",
    "* Windows: I suggest using the Anaconda Prompt which you can access from the start menu or using Anaconda Navigator. \n",
    "* MacOs/Linux: open the Terminal app. \n",
    "\n",
    "Once the command line is open, you start in a default location. For example, if you are using Windows and launch the Anaconda Prompt you will see:\n",
    "\n",
    "```\n",
    "(base) C:\\Users\\>\n",
    "```\n",
    "\n",
    "Now, navigate to where our script is. To do this, you will change directories using the cd command. For example, if your code is stored in C:\\Documents\\Python, you can type:\n",
    "\n",
    "```\n",
    "\n",
    "cd C:\\Documents\\Python\n",
    "```\n",
    "\n",
    "The command line will now be updated showing:\n",
    "\n",
    "```\n",
    "(base) C:\\Documents\\Python>\n",
    "```\n",
    "\n",
    "Now that you are in the right place, you can call the Python interpreter, which to convert your code into a format that your computer can understand and executes the command. If you installed Anaconda, this includes a Python 3 interpreter (*python3*). So, to run the script, type:\n",
    "\n",
    "```\n",
    "python3 hello_world.py\n",
    "```\n",
    "\n",
    "If successful, “Hello Earth” should print to your screen.\n",
    "\n",
    "A second method is to use iPython, which allows you to open Python in interactive mode. Unlike the command line method, iPython will let you run code line-by-line. So, like Jupyter Notebook, you have the option to copy and paste you code from the text editor in chunks into the iPython window. You can also call the entire script inside iPython. This is done by starting iPython and using the command %run \\[script name\\].py. Below is a capture from my terminal:\n",
    "\n",
    "```\n",
    "Python 3.7.6 (default, Jan  8 2020, 20:23:39) [MSC v.1916 64 bit (AMD64)]\n",
    "Type 'copyright', 'credits' or 'license' for more information\n",
    "IPython 7.12.0 -- An enhanced Interactive Python. Type '?' for help.\n",
    "\n",
    "In [1]: %run script_example.ipynb\n",
    "Hello Earth\n",
    "```\n",
    "\n",
    "One advantage of using iPython is that after the script finishes running, variables that were generated in the script are still in memory. Then, you can print or operate on the variables to either debug or to develop your code further. \n",
    "\n",
    "You may have noted two differences in workflow for write code in scripts versus notebooks, (1) that code cannot be inline and (2) the program must run fully to the end.\n",
    "\n",
    "\n",
    "### Handling output when scripting\n",
    "\n",
    "In the previous example, you printed text to the screen but Python’s capable of saving figures and data. To save plots, replace *plt.show()* with the *plt.savefig()* command.\n",
    "\n",
    "It is possible to directly display your graphics using the X11 protocol (by default in Linux) with XQuartz (Mac) or PuTTy (Windows). \n",
    "\n",
    "I typically discourage this because satellite imagery tends to be very large and thus slow to display remotely. From my experience, it is usually faster to write an image to a file and then view the plot after it is fully rendered.\n",
    "\n",
    "## Summary:\n",
    "\n",
    "You learned:\n",
    "\n",
    "* Aceess data from data archives, OPeNDAP, and cloud storage\n",
    "* How to save data and graphics\n",
    "* How to run scripts\n",
    "\n",
    "## Conclusion\n",
    "\n",
    "I hope you feel empowered find relevant satellite data for your project are equipped with the tools to visualize it. Practice regularly (daily!) to improve your skills. Here are some ways you can continue your journey:\n",
    "\n",
    "* Downlaod data. You can access data from ESA (https://earth.esa.int/eogateway/), NOAA’s threads data server: https://www.ncei.noaa.gov/thredds/catalog.html, or NASA's [Earthdata](https://earthdata.nasa.gov/) portals.\n",
    "* Read. \n",
    "    * [Project Pythia Foundations](https://foundations.projectpythia.org/landing-page.html) a free and excellent coverage of Python basics for Earth Science. Covers the topics presented in more detail.\n",
    "    * [Python for Data Science](https://jakevdp.github.io/PythonDataScienceHandbook/) (free) a more general book on Python programming.\n",
    "    * [Research Software Engineering with Python](https://merely-useful.tech/py-rse/) Free eBook to enhance your workflow\n",
    "    * Python Programming and Visualization for Scientists by Alex DeCaria (not free)\n",
    "    * Python Machine Learning by Wei-Meng Lee (not free)\n",
    "    * [Earth Observation Using Python](https://www.wiley.com/en-us/Earth+Observation+using+Python%3A+A+Practical+Programming+Guide-p-9781119606888) by Rebekah Esmaili (not free)\n",
    "* Watch.\n",
    "    * [CS Dojo](https://www.youtube.com/channel/UCxX9wt5FWQUAAz4UrysqK9A) on YouTube has a lot of short, fun Python tutorials.\n",
    "    * [Coursera](https://www.coursera.org/learn/interactive-python-1?specialization=computer-fundamentals) has some fundamental interactive Python courses if you want more structure.\n",
    "    * [Python for Climate and Meteorology](https://www.youtube.com/watch?v=uQZAEPnUZ5o) Another focused Python workshop taught at AMS, a little more advanced.\n",
    "* Connect with an online community, such as Pangeo (https://discourse.pangeo.io/)"
   ]
  },
  {
   "cell_type": "code",
   "execution_count": null,
   "metadata": {},
   "outputs": [],
   "source": []
  }
 ],
 "metadata": {
  "kernelspec": {
   "display_name": "Python 3.11.0 ('notebook_demo')",
   "language": "python",
   "name": "python3"
  },
  "language_info": {
   "codemirror_mode": {
    "name": "ipython",
    "version": 3
   },
   "file_extension": ".py",
   "mimetype": "text/x-python",
   "name": "python",
   "nbconvert_exporter": "python",
   "pygments_lexer": "ipython3",
   "version": "3.11.0"
  },
  "vscode": {
   "interpreter": {
    "hash": "4589143d4cda0c8671911bd60c16dc1d10ec327722e7574bc882b745b51509b4"
   }
  }
 },
 "nbformat": 4,
 "nbformat_minor": 4
}
