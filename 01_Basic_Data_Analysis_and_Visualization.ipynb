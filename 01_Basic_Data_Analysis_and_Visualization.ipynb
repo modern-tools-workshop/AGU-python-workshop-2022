{
 "cells": [
  {
   "cell_type": "markdown",
   "metadata": {},
   "source": [
    "# Lesson 1: Basic Data Analysis and Visualization \n",
    "\n",
    "Author: Rebekah Esmaili (rebekah.esmaili@gmail.com)\n",
    " \n",
    "---\n",
    "\n",
    "\n",
    "## Why Python?\n",
    "\n",
    "Pros\n",
    "\n",
    "* General-purpose, cross-platform\n",
    "* Free and open source\n",
    "* Reasonably easy to learn\n",
    "* Expressive and succinct code, forces good style\n",
    "* Being interpreted and dynamically typed makes it great for data analysis\n",
    "* Robust ecosystem of scientific libraries, including powerful statistical and visualization packages\n",
    "* Large community of scientific users and large existing codebases\n",
    "* Major investment into Python ecosystem by Earth science research agencies, including NASA, NCAR, UK Met Office, and Lamont-Doherty Earth Observatory. See Pangeo.\n",
    "* Reads Earth science data formats like HDF, NetCDF, GRIB\n",
    "\n",
    "Cons\n",
    "\n",
    "* Performance penalties for interpreted languages, although many libraries are wrappers for compiled languages. Avoid large loops in favor of matrix/vector operations when possible.\n",
    "* Multithreading is limited due to the Global Interpreter Lock, but other parallelism is available\n",
    "* See Julia for a modern scientific language which is trying to overcome these challenges\n",
    "\n",
    "Why we use Python 3?\n",
    "\n",
    "* Python 2 reached it's \"end of life\" as of January 2020\n",
    "* No more updates or bugfixes\n",
    "* No further official support\n",
    "* Subtle differences: https://www.geeksforgeeks.org/important-differences-between-python-2-x-and-python-3-x-with-examples/\n",
    "\n",
    "---\n",
    "\n",
    "## Lesson Objectives\n",
    "\n",
    "* You will learn to:\n",
    "    * Import relevant packages for scientific programming\n",
    "    * Read ascii data\n",
    "    * Basic plotting and visualization\n",
    "   \n",
    "---\n",
    "\n",
    "## What do I need?\n",
    "* If you are really new to Python, I recommend using the binder links to run these notebooks remotely.\n",
    "* If you have some experience, you can either install Anaconda locally on your laptop or on a remote server. I _do not recommend_ using system or shared Python installations unless you are advanced!\n",
    "\n",
    "## What is Anaconda?\n",
    "* Anaconda is a package manager\n",
    "* Comes bundled with Python, a lot of useful scientific/mathematical packages, and development environments.\n",
    "* Easiest place to start if you are new!\n",
    "\n",
    "## Launching Jupyter Notebook\n",
    "\n",
    "Linux/Mac\n",
    "* Open terminal, cd to the directory where you have your notebooks and data, and type:\n",
    "```\n",
    "jupyter notebook\n",
    "```\n",
    "\n",
    "Windows\n",
    "* Start → Anaconda3 → Jupyter Notebook\n",
    "\n",
    "Jupyter Home Screen\n",
    "\n",
    "* This will launch your default web browser with a local webserver that displays the contents of the directory that you're working in.\n",
    "* Note: in all the examples, the path assumed that jupyter is launched from the notebook directory. You will need to change the path to point to your data if this is different.\n",
    "* Click on New on the top right.\n",
    "\n",
    "---\n",
    "\n",
    "## Basic Python Syntax"
   ]
  },
  {
   "cell_type": "markdown",
   "metadata": {},
   "source": [
    "The most basic Python command is to write words to the screen. In jupyter notebooks, the result will appear below the line of code. To run the above command in Jupyter notebook, highlight the cell and either chick the run button (►) or press the **Shift** and **Enter** keys"
   ]
  },
  {
   "cell_type": "code",
   "execution_count": 30,
   "metadata": {},
   "outputs": [
    {
     "name": "stdout",
     "output_type": "stream",
     "text": [
      "Hello Earth\n"
     ]
    }
   ],
   "source": [
    "# This is a comment, python will not run this!\n",
    "print(\"Hello Earth\")"
   ]
  },
  {
   "cell_type": "markdown",
   "metadata": {},
   "source": [
    "In Python, variables are dynamically allocated, which means that you do not need to declare the type or size prior to storing data in them. Instead, Python will automatically guess the variable type based on the content of what you are assigning:"
   ]
  },
  {
   "cell_type": "code",
   "execution_count": 31,
   "metadata": {},
   "outputs": [],
   "source": [
    "var_int = 8\n",
    "var_float = 15.0\n",
    "var_scifloat = 4e8\n",
    "var_complex = complex(4, 2)\n",
    "var_greetings = 'Hello Earth'"
   ]
  },
  {
   "cell_type": "markdown",
   "metadata": {},
   "source": [
    "Python has many built in functions, the syntax is usually:\n",
    "\n",
    "```\n",
    "function_name(inputs)\n",
    "```\n",
    "You have already used two functions: *print()* and *complex()*. Another useful function is *type()*, will tell us if the variable is an integer, a float, a complex number, or a string. "
   ]
  },
  {
   "cell_type": "code",
   "execution_count": 32,
   "metadata": {},
   "outputs": [
    {
     "data": {
      "text/plain": [
       "(int, float, float, complex, str)"
      ]
     },
     "execution_count": 32,
     "metadata": {},
     "output_type": "execute_result"
    }
   ],
   "source": [
    " type(var_int),  type(var_float), type(var_scifloat), type(var_complex), type(var_greetings)"
   ]
  },
  {
   "cell_type": "markdown",
   "metadata": {},
   "source": [
    "Python has the following built-in operators:\n",
    "\n",
    "* Addition, subtraction, multiplication, division: +, -, *, /\n",
    "* Exponential, integer division, modulus: \\**, //, %\n",
    "\n"
   ]
  },
  {
   "cell_type": "code",
   "execution_count": 33,
   "metadata": {},
   "outputs": [
    {
     "data": {
      "text/plain": [
       "(4.0, 64, 1.0, 7.0)"
      ]
     },
     "execution_count": 33,
     "metadata": {},
     "output_type": "execute_result"
    }
   ],
   "source": [
    "2+2.0, var_int**2, var_float//var_int, var_float%var_int"
   ]
  },
  {
   "cell_type": "markdown",
   "metadata": {},
   "source": [
    "---\n",
    "\n",
    "**Exercise 1:** Learning to use notebooks\n",
    "\n",
    "1. Launch Jupyter Notebook and create a new notebook\n",
    "2. Rename the notebook\n",
    "3. Create a new cell and use *type()* to see if the following are floats and integers:\n",
    "    * 2+2\n",
    "    * 2\\*2.0\n",
    "    * var_float/var_int\n",
    "---\n",
    "**Solution:**"
   ]
  },
  {
   "cell_type": "code",
   "execution_count": null,
   "metadata": {},
   "outputs": [],
   "source": []
  },
  {
   "cell_type": "markdown",
   "metadata": {},
   "source": [
    "## Working with lists\n",
    "\n",
    "Lists are useful for storing scientific data. Lists are made using square brackets. They can hold any data type (integers, floats, and strings) and even mixtures of the two."
   ]
  },
  {
   "cell_type": "code",
   "execution_count": 34,
   "metadata": {},
   "outputs": [],
   "source": [
    "numbers_list = [4, 8, 15, 16, 23]"
   ]
  },
  {
   "cell_type": "markdown",
   "metadata": {},
   "source": [
    "You can access elements of the list using the index. Python is zero based, so index 0 retrieves the first element."
   ]
  },
  {
   "cell_type": "code",
   "execution_count": 35,
   "metadata": {},
   "outputs": [
    {
     "data": {
      "text/plain": [
       "16"
      ]
     },
     "execution_count": 35,
     "metadata": {},
     "output_type": "execute_result"
    }
   ],
   "source": [
    "numbers_list[3]"
   ]
  },
  {
   "cell_type": "markdown",
   "metadata": {},
   "source": [
    "New items can also be appended to the list using the append function, which has the syntax:\n",
    "\n",
    "```\n",
    "variable.function(element(s))\n",
    "```\n",
    "The list will be updated *in-place*."
   ]
  },
  {
   "cell_type": "code",
   "execution_count": 36,
   "metadata": {},
   "outputs": [
    {
     "name": "stdout",
     "output_type": "stream",
     "text": [
      "[4, 8, 15, 16, 23, 42]\n"
     ]
    }
   ],
   "source": [
    "numbers_list.append(42)\n",
    "print(numbers_list)"
   ]
  },
  {
   "cell_type": "markdown",
   "metadata": {},
   "source": [
    "Perhaps we want to calculate the sum of the values in two lists. However, we cannot use the *+* like we did with single values. For list objects, the + will *combine* lists."
   ]
  },
  {
   "cell_type": "code",
   "execution_count": 37,
   "metadata": {},
   "outputs": [
    {
     "data": {
      "text/plain": [
       "[4, 8, 15, 16, 23, 42]"
      ]
     },
     "execution_count": 37,
     "metadata": {},
     "output_type": "execute_result"
    }
   ],
   "source": [
    "numbers_list"
   ]
  },
  {
   "cell_type": "markdown",
   "metadata": {},
   "source": [
    "To perform mathematical operations, you can convert the above list to an array using the NumPy package."
   ]
  },
  {
   "cell_type": "markdown",
   "metadata": {},
   "source": [
    "### Importing Packages\n",
    "\n",
    "Packages are collection of modules, which help simplify common tasks. [NumPy](https://numpy.org/) is useful for mathematical operations and array manipulation.\n",
    "\n",
    "\n",
    "* Provides a high-performance multidimensional array object and tools for working with these arrays.\n",
    "* Fundamental package for scientific computing with Python.\n",
    "* Included with with the Anaconda package manager.\n",
    "* For more examples than presented below, please refer [the NumPy Quick Start](https://numpy.org/devdocs/user/quickstart.html)\n",
    "\n",
    "The basic syntax for calling packages is to type the import \\[package name\\]. However, some packages have long names, so you can use import \\[package name\\] as \\[alias\\]."
   ]
  },
  {
   "cell_type": "code",
   "execution_count": 38,
   "metadata": {},
   "outputs": [],
   "source": [
    "import numpy as np"
   ]
  },
  {
   "cell_type": "markdown",
   "metadata": {},
   "source": [
    "If you do not see any error after running the line above, then the package was successfully imported.\n",
    "### Working with arrays\n",
    "\n",
    "I can use NumPy’s array constructor *np.array()* to convert our list to a NumPy array and perform the matrix multiplication. For example, I can double each element of the array:"
   ]
  },
  {
   "cell_type": "code",
   "execution_count": 39,
   "metadata": {},
   "outputs": [
    {
     "data": {
      "text/plain": [
       "array([ 8, 16, 30, 32, 46, 84])"
      ]
     },
     "execution_count": 39,
     "metadata": {},
     "output_type": "execute_result"
    }
   ],
   "source": [
    "numbers_array = np.array(numbers_list)\n",
    "numbers_array*2"
   ]
  },
  {
   "cell_type": "markdown",
   "metadata": {},
   "source": [
    "Another difference between arrays and lists is that lists are only one-dimensional. NumPy can be any number of dimensions. For example, I can change the dimensions of the data using the *reshape()* function:"
   ]
  },
  {
   "cell_type": "code",
   "execution_count": 40,
   "metadata": {},
   "outputs": [
    {
     "data": {
      "text/plain": [
       "array([[ 4,  8],\n",
       "       [15, 16],\n",
       "       [23, 42]])"
      ]
     },
     "execution_count": 40,
     "metadata": {},
     "output_type": "execute_result"
    }
   ],
   "source": [
    "numbers_array_2d = numbers_array.reshape(3,2)\n",
    "numbers_array_2d"
   ]
  },
  {
   "cell_type": "code",
   "execution_count": 41,
   "metadata": {},
   "outputs": [
    {
     "data": {
      "text/plain": [
       "(3, 2)"
      ]
     },
     "execution_count": 41,
     "metadata": {},
     "output_type": "execute_result"
    }
   ],
   "source": [
    "numbers_array_2d.shape"
   ]
  },
  {
   "cell_type": "markdown",
   "metadata": {},
   "source": [
    "The original numbers_array has a length of 6, the new array has 2 rows and 3 columns."
   ]
  },
  {
   "cell_type": "markdown",
   "metadata": {},
   "source": [
    "### Reading ASCII data\n",
    "\n",
    "The Pandas package has a useful function for reading text/ascii data called *read_csv()*. The function name is somewhat a misnomer, as *read_csv* will read any delimited data using the *delim=* keyword argument. Below, you will import the [Pandas](https://pandas.pydata.org/) package and we will read in a dataset. Note that the path below is relative to the current notebook and you may have to change the code if you are running locally on your computer:\n",
    "\n",
    "```\n",
    "data/VIIRSNDE_global2020258.v1.0.txt\n",
    "```\n",
    "\n",
    "We will look at the Visible Infrared Imaging Radiometer Suite (VIIRS) Active Fire product, a product that classifies if a pixel contains fire with various confidence levels. More information can be found at https://www.ospo.noaa.gov/Products/land/fire.html. We will examine the data on Sept 15, 2020 (day of year 258)."
   ]
  },
  {
   "cell_type": "code",
   "execution_count": 42,
   "metadata": {},
   "outputs": [],
   "source": [
    "import pandas as pd"
   ]
  },
  {
   "cell_type": "markdown",
   "metadata": {},
   "source": [
    "The default seperator is a comma (,), however my data also contains space. I use the \"\\s*\" to indicate space following the comma should be ignored. The engine=\"python\" keyword ensures that this will work across different operating systems."
   ]
  },
  {
   "cell_type": "code",
   "execution_count": 43,
   "metadata": {},
   "outputs": [],
   "source": [
    "fname = \"data/VIIRSNDE_global2020258.v1.0.txt\"\n",
    "fires = pd.read_csv(fname, sep=',\\s*', engine='python')"
   ]
  },
  {
   "cell_type": "markdown",
   "metadata": {},
   "source": [
    "You can inspect the contents within the notebook using the *head()* function, which will return the first five rows of the dataset. Pandas automatically stores data in structures called *DataFrames*. DataFrames are two dimensional (rows and columns) and resemble a spreadsheet. The leftmost column is the row index and is not part of the *fires* dataset. "
   ]
  },
  {
   "cell_type": "code",
   "execution_count": 44,
   "metadata": {},
   "outputs": [
    {
     "data": {
      "text/html": [
       "<div>\n",
       "<style scoped>\n",
       "    .dataframe tbody tr th:only-of-type {\n",
       "        vertical-align: middle;\n",
       "    }\n",
       "\n",
       "    .dataframe tbody tr th {\n",
       "        vertical-align: top;\n",
       "    }\n",
       "\n",
       "    .dataframe thead th {\n",
       "        text-align: right;\n",
       "    }\n",
       "</style>\n",
       "<table border=\"1\" class=\"dataframe\">\n",
       "  <thead>\n",
       "    <tr style=\"text-align: right;\">\n",
       "      <th></th>\n",
       "      <th>Num</th>\n",
       "      <th>Lon</th>\n",
       "      <th>Lat</th>\n",
       "      <th>Mask</th>\n",
       "      <th>Conf</th>\n",
       "      <th>brt_t13(K)</th>\n",
       "      <th>frp(MW)</th>\n",
       "      <th>line</th>\n",
       "      <th>sample</th>\n",
       "      <th>YearDay</th>\n",
       "      <th>Time</th>\n",
       "    </tr>\n",
       "  </thead>\n",
       "  <tbody>\n",
       "    <tr>\n",
       "      <th>0</th>\n",
       "      <td>2</td>\n",
       "      <td>29.991129</td>\n",
       "      <td>-29.555208</td>\n",
       "      <td>9</td>\n",
       "      <td>100</td>\n",
       "      <td>338.333923</td>\n",
       "      <td>29.883327</td>\n",
       "      <td>53</td>\n",
       "      <td>NDE</td>\n",
       "      <td>2020258</td>\n",
       "      <td>1</td>\n",
       "    </tr>\n",
       "    <tr>\n",
       "      <th>1</th>\n",
       "      <td>2</td>\n",
       "      <td>29.981384</td>\n",
       "      <td>-29.601839</td>\n",
       "      <td>7</td>\n",
       "      <td>17</td>\n",
       "      <td>300.099274</td>\n",
       "      <td>4.842572</td>\n",
       "      <td>60</td>\n",
       "      <td>NDE</td>\n",
       "      <td>2020258</td>\n",
       "      <td>1</td>\n",
       "    </tr>\n",
       "    <tr>\n",
       "      <th>2</th>\n",
       "      <td>2</td>\n",
       "      <td>30.085478</td>\n",
       "      <td>-29.868237</td>\n",
       "      <td>8</td>\n",
       "      <td>76</td>\n",
       "      <td>315.574402</td>\n",
       "      <td>10.423400</td>\n",
       "      <td>97</td>\n",
       "      <td>NDE</td>\n",
       "      <td>2020258</td>\n",
       "      <td>1</td>\n",
       "    </tr>\n",
       "    <tr>\n",
       "      <th>3</th>\n",
       "      <td>2</td>\n",
       "      <td>30.084040</td>\n",
       "      <td>-29.874882</td>\n",
       "      <td>8</td>\n",
       "      <td>53</td>\n",
       "      <td>310.038391</td>\n",
       "      <td>7.675260</td>\n",
       "      <td>98</td>\n",
       "      <td>NDE</td>\n",
       "      <td>2020258</td>\n",
       "      <td>1</td>\n",
       "    </tr>\n",
       "    <tr>\n",
       "      <th>4</th>\n",
       "      <td>2</td>\n",
       "      <td>30.082544</td>\n",
       "      <td>-29.881517</td>\n",
       "      <td>8</td>\n",
       "      <td>51</td>\n",
       "      <td>302.806458</td>\n",
       "      <td>5.290376</td>\n",
       "      <td>99</td>\n",
       "      <td>NDE</td>\n",
       "      <td>2020258</td>\n",
       "      <td>1</td>\n",
       "    </tr>\n",
       "  </tbody>\n",
       "</table>\n",
       "</div>"
      ],
      "text/plain": [
       "   Num        Lon        Lat  Mask  Conf  brt_t13(K)    frp(MW)  line sample  \\\n",
       "0    2  29.991129 -29.555208     9   100  338.333923  29.883327    53    NDE   \n",
       "1    2  29.981384 -29.601839     7    17  300.099274   4.842572    60    NDE   \n",
       "2    2  30.085478 -29.868237     8    76  315.574402  10.423400    97    NDE   \n",
       "3    2  30.084040 -29.874882     8    53  310.038391   7.675260    98    NDE   \n",
       "4    2  30.082544 -29.881517     8    51  302.806458   5.290376    99    NDE   \n",
       "\n",
       "   YearDay  Time  \n",
       "0  2020258     1  \n",
       "1  2020258     1  \n",
       "2  2020258     1  \n",
       "3  2020258     1  \n",
       "4  2020258     1  "
      ]
     },
     "execution_count": 44,
     "metadata": {},
     "output_type": "execute_result"
    }
   ],
   "source": [
    "fires.head()"
   ]
  },
  {
   "cell_type": "markdown",
   "metadata": {},
   "source": [
    "You can access individual columns of data using the column name. For example, below you can extract the pixel brightness temperature (brt):"
   ]
  },
  {
   "cell_type": "code",
   "execution_count": 45,
   "metadata": {},
   "outputs": [
    {
     "data": {
      "text/plain": [
       "0        338.333923\n",
       "1        300.099274\n",
       "2        315.574402\n",
       "3        310.038391\n",
       "4        302.806458\n",
       "            ...    \n",
       "56303    305.149933\n",
       "56304    300.437561\n",
       "56305    305.149933\n",
       "56306    307.136230\n",
       "56307    302.398987\n",
       "Name: brt_t13(K), Length: 56308, dtype: float64"
      ]
     },
     "execution_count": 45,
     "metadata": {},
     "output_type": "execute_result"
    }
   ],
   "source": [
    "fires[\"brt_t13(K)\"]"
   ]
  },
  {
   "cell_type": "markdown",
   "metadata": {},
   "source": [
    "---\n",
    "\n",
    "**Exercise 2:** Import an ascii file\n",
    "\n",
    "1. Import the dataset \"20200901_20200930_Monterey.lev15.csv\" and save it to a variable called *aeronet*.\n",
    "2. Print the first few lines using *.head()*\n",
    "3. Find a column that doesn't have only missing values (-999) and (challenge!) calculate the mean using the following syntax *variable\\[\"column\"\\].mean()*\n",
    "---\n",
    "**Solution:**"
   ]
  },
  {
   "cell_type": "code",
   "execution_count": null,
   "metadata": {},
   "outputs": [],
   "source": []
  },
  {
   "cell_type": "markdown",
   "metadata": {},
   "source": [
    "### Working with masks and masked arrays\n",
    "\n",
    "When working with data, sometimes there are numbers I want to remove. For instance, I may want to work with data below a certain threshold. You can subset the data using identity operations:\n",
    "\n",
    "* less than: <\n",
    "* less than or equal to: <=\n",
    "* greater than: >\n",
    "* greater than or equal to: >=\n",
    "* equals: ==\n",
    "* not equals: !=\n",
    "\n",
    "Their use will return either a True or False statement. For the *fires* dataset, you can find which elements of the array that meet some condition, such as only examining larger fires that have a Fire Radiative Power (FRP) above 50 MW:"
   ]
  },
  {
   "cell_type": "code",
   "execution_count": 46,
   "metadata": {},
   "outputs": [
    {
     "name": "stdout",
     "output_type": "stream",
     "text": [
      "0        False\n",
      "1        False\n",
      "2        False\n",
      "3        False\n",
      "4        False\n",
      "         ...  \n",
      "56303    False\n",
      "56304    False\n",
      "56305    False\n",
      "56306    False\n",
      "56307    False\n",
      "Name: frp(MW), Length: 56308, dtype: bool\n"
     ]
    }
   ],
   "source": [
    "masked_nums = (fires['frp(MW)'] > 50)\n",
    "print(masked_nums)"
   ]
  },
  {
   "cell_type": "markdown",
   "metadata": {},
   "source": [
    "Sometimes you may want to filter by two conditions. For example, insteading of filtering the FRP data, you may only want to examine values within a latitude and longitude domain. In Python, I can combine multiple conditions using and (&) and or (|) statements. Below, I extract the data in 5&deg;x5&deg; box arond Monterey, California:"
   ]
  },
  {
   "cell_type": "code",
   "execution_count": 47,
   "metadata": {},
   "outputs": [
    {
     "name": "stdout",
     "output_type": "stream",
     "text": [
      "0        False\n",
      "1        False\n",
      "2        False\n",
      "3        False\n",
      "4        False\n",
      "         ...  \n",
      "56303    False\n",
      "56304    False\n",
      "56305    False\n",
      "56306    False\n",
      "56307    False\n",
      "Length: 56308, dtype: bool\n"
     ]
    }
   ],
   "source": [
    "masked_nums = (fires['Lat'] > 35.0) & (fires['Lat'] < 40.0) & (fires['Lon'] > -125.0) & (fires['Lon'] < -120.0)\n",
    "print(masked_nums)"
   ]
  },
  {
   "cell_type": "markdown",
   "metadata": {},
   "source": [
    "The above mask can be used in place of an index. Below, you can create a new variable that takes the FRP using the *fires\\['frp(MW)'\\]* variable and subsets it with the array of *masked_nums*:"
   ]
  },
  {
   "cell_type": "code",
   "execution_count": 48,
   "metadata": {},
   "outputs": [
    {
     "name": "stdout",
     "output_type": "stream",
     "text": [
      "16686     7.838871\n",
      "16688    11.660147\n",
      "16689    15.899877\n",
      "16690    17.872414\n",
      "16691    12.954104\n",
      "           ...    \n",
      "55235    22.411970\n",
      "55236    33.313660\n",
      "55237    25.284723\n",
      "55239    43.701473\n",
      "55240    26.098984\n",
      "Name: frp(MW), Length: 317, dtype: float64\n"
     ]
    }
   ],
   "source": [
    "monterey_fires = fires['frp(MW)'][masked_nums]\n",
    "print(monterey_fires)"
   ]
  },
  {
   "cell_type": "markdown",
   "metadata": {},
   "source": [
    "From this new variable, you can compute the average in this region and compare them to the global average for that day:"
   ]
  },
  {
   "cell_type": "code",
   "execution_count": 49,
   "metadata": {},
   "outputs": [
    {
     "data": {
      "text/plain": [
       "(91.59595084542588, 49.94695660808411)"
      ]
     },
     "execution_count": 49,
     "metadata": {},
     "output_type": "execute_result"
    }
   ],
   "source": [
    "monterey_fires.mean(), fires['frp(MW)'].mean()"
   ]
  },
  {
   "cell_type": "markdown",
   "metadata": {},
   "source": [
    "You can use the size command to compare the dimensions of original array and the one that filtered out values that were outside of our latitude and longitude bounds. You will notice that these two arrays have different sizes."
   ]
  },
  {
   "cell_type": "code",
   "execution_count": 50,
   "metadata": {},
   "outputs": [
    {
     "data": {
      "text/plain": [
       "(56308, 317)"
      ]
     },
     "execution_count": 50,
     "metadata": {},
     "output_type": "execute_result"
    }
   ],
   "source": [
    "fires['frp(MW)'].size, monterey_fires.size"
   ]
  },
  {
   "cell_type": "markdown",
   "metadata": {},
   "source": [
    "There are cases where you will want to preserve the size and shape of the original array. For these situations, you can utilize the NumPy *masked array* module. The syntax is *np.ma.array()*, and you will add a keyword argument *mask=*, which is set to the inverse (~) of the *mask_nums*."
   ]
  },
  {
   "cell_type": "code",
   "execution_count": 51,
   "metadata": {},
   "outputs": [
    {
     "data": {
      "text/plain": [
       "masked_array(data=[--, --, --, ..., --, --, --],\n",
       "             mask=[ True,  True,  True, ...,  True,  True,  True],\n",
       "       fill_value=-999.0)"
      ]
     },
     "execution_count": 51,
     "metadata": {},
     "output_type": "execute_result"
    }
   ],
   "source": [
    "monterey_fires_ma = np.ma.array(fires['frp(MW)'], mask=~masked_nums, fill_value=-999)\n",
    "monterey_fires_ma"
   ]
  },
  {
   "cell_type": "markdown",
   "metadata": {},
   "source": [
    "Then, you can calculate the mean values and confirm that they are the same as the previous example:"
   ]
  },
  {
   "cell_type": "code",
   "execution_count": 52,
   "metadata": {},
   "outputs": [
    {
     "data": {
      "text/plain": [
       "91.59595084542588"
      ]
     },
     "execution_count": 52,
     "metadata": {},
     "output_type": "execute_result"
    }
   ],
   "source": [
    "monterey_fires_ma.mean()"
   ]
  },
  {
   "cell_type": "markdown",
   "metadata": {},
   "source": [
    "However, the key difference will be the size, which retains the shape of the unmasked data:"
   ]
  },
  {
   "cell_type": "code",
   "execution_count": 53,
   "metadata": {},
   "outputs": [
    {
     "data": {
      "text/plain": [
       "56308"
      ]
     },
     "execution_count": 53,
     "metadata": {},
     "output_type": "execute_result"
    }
   ],
   "source": [
    "monterey_fires_ma.size"
   ]
  },
  {
   "cell_type": "markdown",
   "metadata": {},
   "source": [
    "---\n",
    "**Exercise 3:** Filtering data\n",
    "\n",
    "Using the dataset imported in the previous example (*aeronet*):\n",
    "    \n",
    "1. Create a mask that filters the \"AOD_870nm\" column to only include values that are above 0.\n",
    "2. Create a new variables, *day_of_year*, with the mask applied to aeronet\\[\"Day_of_Year(Fraction)\"\\].\n",
    "3. Create a new variables, *aod_870*, with the mask applied to aeronet\\[\"AOD_870nm\"\\].\n",
    "4. Compare the mean value of *aeronet\\[\"AOD_870nm\"\\]* to *aod_870*.\n",
    "    \n",
    "---\n",
    "**Solution**"
   ]
  },
  {
   "cell_type": "code",
   "execution_count": null,
   "metadata": {},
   "outputs": [],
   "source": []
  },
  {
   "cell_type": "markdown",
   "metadata": {},
   "source": [
    "### Basic figures and plots\n",
    "\n",
    "Python has several packages to create visuals for remote sensing data, either in the form of imagery or plots of relevant analysis. Of these, the most widely used and oldest packages is [Matplotlib](https://matplotlib.org/). Matplotlib plots are highly customizable and has additional toolkits that can enhance functionality, such as creating maps using the [Cartopy](https://scitools.org.uk/cartopy/docs/latest/) package, which I will describe more in the next session.\n"
   ]
  },
  {
   "cell_type": "code",
   "execution_count": 54,
   "metadata": {},
   "outputs": [],
   "source": [
    "import matplotlib.pyplot as plt"
   ]
  },
  {
   "cell_type": "markdown",
   "metadata": {},
   "source": [
    "Suppose you want to learn what the global distribution of fire radiative power is. From inspecting the frp(MW) column earlier, these values extend to many decimal places. Rather than use a continuous scale, I can instead group in the data into 10 MW bins, from 0 to 500 MW:"
   ]
  },
  {
   "cell_type": "code",
   "execution_count": 55,
   "metadata": {},
   "outputs": [],
   "source": [
    "bins10MW = np.arange(0, 500, 10)"
   ]
  },
  {
   "cell_type": "markdown",
   "metadata": {},
   "source": [
    "I can use these bins to create a histogram. Line by line, the code below will do as follows. Each additional line is layering elements on this empty graphic. The entire block of code must be run at once and not split into multiple cells.  \n",
    "\n",
    "1. *plt.figure()* creates a blank canvas.\n",
    "2. I add the histogram to the figure using *plt.hist()*, which automatically will count the number of rows with fire radiative power in the bins that I defined above in the bins10W variable. I must then pass in the data (fires['frp(MW)']) and the bins (bins10MW) into plt.hist. \n",
    "3. *plt.show()* tells matplotlib the plot is now complete and to render it:"
   ]
  },
  {
   "cell_type": "code",
   "execution_count": 56,
   "metadata": {},
   "outputs": [
    {
     "data": {
      "image/png": "[encoded data removed]",
      "text/plain": [
       "<Figure size 500x500 with 1 Axes>"
      ]
     },
     "metadata": {},
     "output_type": "display_data"
    }
   ],
   "source": [
    "plt.figure(figsize=[5,5])\n",
    "plt.hist(fires['frp(MW)'], bins=bins10MW)\n",
    "plt.show()"
   ]
  },
  {
   "cell_type": "markdown",
   "metadata": {},
   "source": [
    "Below, you will remake this plot but add some aesthetic additions, such as labels to the x and y axis using *set_xlabel()* and *set_ylabel()*. Since there are thousands more fires with fire radiative power less than 100 MW than fires with higher values the data are likely lognormal. The plot will be easier to interpret of I rescale the y-axis to a log scale while leaving the x-axis linear.\n",
    "\n",
    "The command *plt.subplot()* will return an axis object to a variable (*ax*). There are three numbers passed in (111), which correspond to rows, columns, and index. In this example, there is one row and one column, and therefore, only one index."
   ]
  },
  {
   "cell_type": "code",
   "execution_count": 57,
   "metadata": {},
   "outputs": [
    {
     "data": {
      "image/png": "[encoded data removed]",
      "text/plain": [
       "<Figure size 640x480 with 1 Axes>"
      ]
     },
     "metadata": {},
     "output_type": "display_data"
    }
   ],
   "source": [
    "plt.figure()\n",
    "\n",
    "ax = plt.subplot(111)\n",
    "\n",
    "ax.hist(fires['frp(MW)'], bins=bins10MW)\n",
    "\n",
    "ax.set_yscale('log')\n",
    "\n",
    "ax.set_xlabel(\"Fire Radiative Power (MW)\")\n",
    "ax.set_ylabel(\"Counts\")\n",
    "\n",
    "plt.show()"
   ]
  },
  {
   "cell_type": "markdown",
   "metadata": {},
   "source": [
    "You can also plot the data in 2-dimensions. For example, each row in *fires* has a latitude and longitude coordinates pair. I will take these two coordinates and plot using *plt.scatter()*. The first argument is the x-coordinate and the second is the y-coordinate (the order matters). \n",
    "\n",
    "There are some command line options *plt.scatter()*:\n",
    "\n",
    "* s: size with respect to the default\n",
    "* c: color, which can be either from a predefined name list or a hexadecimal value\n",
    "* alpha: opacity, where smaller values are transparent.\n",
    "\n",
    "Like in the previous example, I have chosen to label the latitude and longitude axes:"
   ]
  },
  {
   "cell_type": "code",
   "execution_count": 58,
   "metadata": {},
   "outputs": [
    {
     "data": {
      "image/png": "[encoded data removed]",
      "text/plain": [
       "<Figure size 640x480 with 1 Axes>"
      ]
     },
     "metadata": {},
     "output_type": "display_data"
    }
   ],
   "source": [
    "fig = plt.figure()\n",
    "ax = plt.subplot(111)\n",
    "\n",
    "ax.scatter(fires['Lon'], fires['Lat'], s=0.5, c='black', alpha=0.1)\n",
    "\n",
    "ax.set_xlabel('Longitude')\n",
    "ax.set_ylabel('Latitude')\n",
    "\n",
    "plt.show()"
   ]
  },
  {
   "cell_type": "markdown",
   "metadata": {},
   "source": [
    "You can almost see the outline of the continents from the data above. In the next session, you will learn how to overlay maps onto your plots."
   ]
  },
  {
   "cell_type": "markdown",
   "metadata": {},
   "source": [
    "---\n",
    "**Exercise 4:** Create a scatterplot\n",
    "\n",
    "Use the variables *aod_870* and *day_of_year* that you made in Exercise 3 to:\n",
    "\n",
    "1. Create a scatter plot showing the *day_of_year* (x-axis) and *aod_870* (y-axis)\n",
    "2. Add y-axis and x-axis labels using *.set_xlabel()* and *.set_ylabel()*\n",
    "3. Adjust the color and size of the scatterplot\n",
    "---\n",
    "**Solution**"
   ]
  },
  {
   "cell_type": "code",
   "execution_count": null,
   "metadata": {},
   "outputs": [],
   "source": []
  },
  {
   "cell_type": "markdown",
   "metadata": {},
   "source": [
    "## Summary:\n",
    "\n",
    "You learned:\n",
    "* Very basic built-in Python functions and operations\n",
    "* How to import three packages: numpy, pandas, and matplotlib\n",
    "* Worked with arrays and lists\n",
    "* How to create a simple plot\n",
    "\n",
    "Next lesson:\n",
    "* More advanced plots, such as using maps\n",
    "* Importing scientific datasets, such as netcdf and grib"
   ]
  },
  {
   "cell_type": "code",
   "execution_count": null,
   "metadata": {},
   "outputs": [],
   "source": []
  }
 ],
 "metadata": {
  "kernelspec": {
   "display_name": "Python 3.11.0 ('notebook_demo')",
   "language": "python",
   "name": "python3"
  },
  "language_info": {
   "codemirror_mode": {
    "name": "ipython",
    "version": 3
   },
   "file_extension": ".py",
   "mimetype": "text/x-python",
   "name": "python",
   "nbconvert_exporter": "python",
   "pygments_lexer": "ipython3",
   "version": "3.11.0"
  },
  "vscode": {
   "interpreter": {
    "hash": "4589143d4cda0c8671911bd60c16dc1d10ec327722e7574bc882b745b51509b4"
   }
  }
 },
 "nbformat": 4,
 "nbformat_minor": 4
}
